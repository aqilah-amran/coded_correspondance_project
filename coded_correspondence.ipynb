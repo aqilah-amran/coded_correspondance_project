{
 "cells": [
  {
   "cell_type": "code",
   "execution_count": null,
   "metadata": {},
   "outputs": [],
   "source": [
    "# Casual Coded Correspondence: The Project\n",
    "\n",
    "In this project, you will be working to code and decode various messages between you and your fictional cryptography enthusiast pen pal Vishal. You and Vishal have been exchanging letters for quite some time now and have started to provide a puzzle in each one of your letters.  Here is his most recent letter:\n",
    "\n",
    "     Hey there! How have you been? I've been great! I just learned about this really cool type of cipher called a  Caesar Cipher. Here's how it works: You take your message, something like \"hello\" and then you shift all of the letters by a certain offset. For example, if I chose an offset of 3 and a message of \"hello\", I would code my message by shifting each letter 3 places to the left (with respect to the alphabet). So \"h\" becomes \"e\", \"e\" becomes, \"b\", \"l\" becomes \"i\", and \"o\" becomes \"l\". Then I have my coded message,\"ebiil\"! Now I can send you my message and the offset and you can decode it. The best thing is that Julius Caesar himself used this cipher, that's why it's called the Caesar Cipher! Isn't that so cool! Okay, now I'm going to send you a longer coded message that you have to decode yourself!\n",
    "    \n",
    "        xuo jxuhu! jxyi yi qd unqcfbu ev q squiqh syfxuh. muhu oek qrbu je tusetu yj? y xefu ie! iudt cu q cuiiqwu rqsa myjx jxu iqcu evviuj!\n",
    "    \n",
    "    This message has an offset of 10. Can you decode it?\n",
    "    \n",
    "\n",
    "#### Step 1: Decode Vishal's Message\n",
    "In the cell below, use your Python skills to decode Vishal's message and print the result. Hint: you can account for shifts that go past the end of the alphabet using the modulus operator, but I'll let you figure out how!"
   ]
  },
  {
   "cell_type": "code",
   "execution_count": 1,
   "metadata": {},
   "outputs": [
    {
     "name": "stdout",
     "output_type": "stream",
     "text": [
      "hey there! this is an example of a caesar cipher. were you able to decode it? i hope so! send me a message back with the same offset!\n"
     ]
    }
   ],
   "source": [
    "alphabet = ['a','b','c','d','e','f','g','h','i','j','k','l','m','n','o','p','q','r','s','t','u','v','w','x','y','z']\n",
    "\n",
    "coded_message = \"xuo jxuhu! jxyi yi qd unqcfbu ev q squiqh syfxuh. muhu oek qrbu je tusetu yj? y xefu ie! iudt cu q cuiiqwu rqsa myjx jxu iqcu evviuj!\"\n",
    "decoded_message =  \"\"\n",
    "\n",
    "for letter in coded_message:\n",
    "    if letter in alphabet:\n",
    "        position = alphabet.index(letter)\n",
    "        shift = position + 10\n",
    "        if shift < 25:\n",
    "            decoded_message += alphabet[shift]\n",
    "        elif shift > 25:\n",
    "            shift = (shift%25) - 1\n",
    "            decoded_message += alphabet[shift]\n",
    "    else:\n",
    "        decoded_message += letter\n",
    "\n",
    "print(decoded_message)\n"
   ]
  },
  {
   "cell_type": "code",
   "execution_count": 2,
   "metadata": {},
   "outputs": [
    {
     "name": "stdout",
     "output_type": "stream",
     "text": [
      "hey there! this is an example of a caesar cipher. were you able to decode it? i hope so! send me a message back with the same offset!\n"
     ]
    }
   ],
   "source": [
    "alphabet = ['a','b','c','d','e','f','g','h','i','j','k','l','m','n','o','p','q','r','s','t','u','v','w','x','y','z']\n",
    "\n",
    "def decoder(message,offset):\n",
    "    decoded_message =  \"\"\n",
    "    \n",
    "    for letter in message:\n",
    "        if letter in alphabet:\n",
    "            position = alphabet.index(letter)\n",
    "            shift = position + int(offset)\n",
    "            if shift < 25:\n",
    "                decoded_message += alphabet[shift]\n",
    "            elif shift > 25:\n",
    "                shift = (shift%25) - 1\n",
    "                decoded_message += alphabet[shift]\n",
    "        else:\n",
    "            decoded_message += letter\n",
    "        \n",
    "    return decoded_message\n",
    "\n",
    "decoded_message = decoder(\"xuo jxuhu! jxyi yi qd unqcfbu ev q squiqh syfxuh. muhu oek qrbu je tusetu yj? y xefu ie! iudt cu q cuiiqwu rqsa myjx jxu iqcu evviuj!\", 10)\n",
    "print(decoded_message)\n",
    "    "
   ]
  },
  {
   "cell_type": "code",
   "execution_count": null,
   "metadata": {},
   "outputs": [],
   "source": [
    "#### Step 2: Send Vishal a Coded Message\n",
    "Great job! Now send Vishal back a message using the same offset. Your message can be anything you want! Remember, coding happens in opposite direction of decoding."
   ]
  },
  {
   "cell_type": "code",
   "execution_count": 3,
   "metadata": {},
   "outputs": [
    {
     "name": "stdout",
     "output_type": "stream",
     "text": [
      "xuo jxuhu! jxyi yi qd unqcfbu ev q squiqh syfxuh. muhu oek qrbu je tusetu yj? y xefu ie! iudt cu q cuiiqwu rqsa myjx jxu iqcu evviuj!\n"
     ]
    }
   ],
   "source": [
    "alphabet = ['a','b','c','d','e','f','g','h','i','j','k','l','m','n','o','p','q','r','s','t','u','v','w','x','y','z']\n",
    "\n",
    "message = \"hey there! this is an example of a caesar cipher. were you able to decode it? i hope so! send me a message back with the same offset!\"\n",
    "\n",
    "def coder(message,offset):\n",
    "    coded_message =  \"\"\n",
    "\n",
    "    for letter in message:\n",
    "        if letter in alphabet:\n",
    "            position = alphabet.index(letter)\n",
    "            shift = position - 10\n",
    "            coded_message += alphabet[shift]\n",
    "        else:\n",
    "            coded_message += letter\n",
    "    \n",
    "    return coded_message\n",
    "\n",
    "coded_message = coder(message=message,offset=10)\n",
    "print(coded_message)\n",
    "\n"
   ]
  },
  {
   "cell_type": "code",
   "execution_count": null,
   "metadata": {},
   "outputs": [],
   "source": [
    "#### Step 3: Make functions for decoding and coding \n",
    "\n",
    "Vishal sent over another reply, this time with two coded messages!\n",
    "    \n",
    "    You're getting the hang of this! Okay here are two more messages, the first one is coded just like before with  an offset of ten, and it contains the hint for decoding the second message!\n",
    "    \n",
    "    First message:\n",
    "    \n",
    "        jxu evviuj veh jxu iusedt cuiiqwu yi vekhjuud.\n",
    "        \n",
    "    Second message:\n",
    "    \n",
    "        bqdradyuzs ygxfubxq omqemd oubtqde fa oapq kagd yqeemsqe ue qhqz yadq eqogdq!\n",
    "    \n",
    "Decode both of these messages. \n",
    "\n",
    "If you haven't already, define two functions `decoder(message, offset)` and `coder(message, offset)` that can be used to quickly decode and code messages given any offset."
   ]
  },
  {
   "cell_type": "code",
   "execution_count": 4,
   "metadata": {},
   "outputs": [
    {
     "name": "stdout",
     "output_type": "stream",
     "text": [
      "the offset for the second message is fourteen.\n"
     ]
    }
   ],
   "source": [
    "first_message = decoder(\"jxu evviuj veh jxu iusedt cuiiqwu yi vekhjuud.\", 10)\n",
    "print(first_message)\n"
   ]
  },
  {
   "cell_type": "code",
   "execution_count": 5,
   "metadata": {},
   "outputs": [
    {
     "name": "stdout",
     "output_type": "stream",
     "text": [
      "performing multiple caesar ciphers to code your messages is even more secure!\n"
     ]
    }
   ],
   "source": [
    "second_message = decoder(\"bqdradyuzs ygxfubxq omqemd oubtqde fa oapq kagd yqeemsqe ue qhqz yadq eqogdq!\", 14)\n",
    "print(second_message)"
   ]
  },
  {
   "cell_type": "code",
   "execution_count": null,
   "metadata": {},
   "outputs": [],
   "source": [
    "#### Step 4: Solving a Caesar Cipher without knowing the shift value\n",
    "\n",
    "Awesome work! While you were working to decode his last two messages, Vishal sent over another letter! He's really been bitten by the crytpo-bug. Read it and see what interesting task he has lined up for you this time.\n",
    "\n",
    "            Hello again friend! I knew you would love the Caesar Cipher, it's a cool simple way to encrypt messages. Did you know that back in Caesar's time, it was considered a very secure way of communication and it took a lot of effort to crack if you were unaware of the value of the shift? That's all changed with computers! Now we can brute force these kinds of ciphers very quickly, as I'm sure you can imagine.\n",
    "            \n",
    "            To test your cryptography skills, this next coded message is going to be harder than the last couple to crack. It's still going to be coded with a Caesar Cipher but this time I'm not going to tell you the value of   the shift. You'll have to brute force it yourself.\n",
    "            \n",
    "            Here's the coded message:\n",
    "            \n",
    "            vhfinmxkl atox kxgwxkxw tee hy maxlx hew vbiaxkl tl hulhexmx. px'ee atox mh kxteer lmxi ni hnk ztfx by px ptgm mh dxxi hnk fxlltzxl ltyx.\n",
    "            \n",
    "            Good luck!\n",
    "            \n",
    "Decode Vishal's most recent message and see what it says!"
   ]
  },
  {
   "cell_type": "code",
   "execution_count": 6,
   "metadata": {},
   "outputs": [
    {
     "name": "stdout",
     "output_type": "stream",
     "text": [
      "1\n",
      "wigjonylm bupy lyhxylyx uff i nbymy ifx wcjbylm um ivmifyny. qy'ff bupy ni lyuffs mnyj oj iol augy c qy quhn ni eyyj iol gymmuaym muy.\n",
      "2\n",
      "xjhkpomn cvq miymy vgg ja ocn jgy xdkcmn vn jwnjgo. r'gg cvq oj mvggt nok pk jpm bvh da r rvio oj fk jpm hnnvbn nva.\n",
      "3\n",
      "ykilqpano dwra najana whh kb pdaoa kh yeldano wo kxokhapa. sa'hh dwra pk nawhhu opal ql kqn cwia eb sa swjp pk gaal kqn iaoowcao owba.\n",
      "4\n",
      "ljmrqbop exsb obkaboba xii lc qebpb lia fmebop xp lyplibqb. tb'ii exsb ql obxiiv pqbm rm lro dxjb fc tb txkq ql hbbm lro jbppxdbp pxcb.\n",
      "5\n",
      "amknsrcpq fytc pclbcpcb yjj md rfcqc mjb agnfcpq yq mqmjcrc. uc'jj fytc rm pcyjjw qrcn sn msp eykc gd uc uylr rm iccn msp kcqqyecq qydc.\n",
      "6\n",
      "bnlotsdqr gud qdmcdqdc kk ne sgdrd nkc bhogdqr r narnkdsd. vd'kk gud sn qdkkx rsdo to ntq fld he vd vms sn jddo ntq ldrrfdr red.\n",
      "7\n",
      "computers have rendered all of these old ciphers as obsolete. we'll have to really step up our game if we want to keep our messages safe.\n",
      "8\n",
      "dpnqvufst ibwf sfoefsfe bmm pg uiftf pme djqifst bt pctpmfuf. xf'mm ibwf up sfbmm tufq vq pvs hbnf jg xf xbou up lffq pvs nfttbhft tbgf.\n",
      "9\n",
      "eqorwvgtu jcxg tgpfgtgf cnn qh vjgug qnf ekrjgtu cu qduqngvg. yg'nn jcxg vq tgcnna uvgr wr qwt icog kh yg ycpv vq mggr qwt oguucigu uchg.\n",
      "10\n",
      "frpsxwhuv kdyh uhqghuhg doo ri wkhvh rog flskhuv dv revrohwh. h'oo kdyh wr uhdoob vwhs xs rxu jdph li h dqw wr nhhs rxu phvvdjhv vdih.\n",
      "11\n",
      "gsqtyxivw lei virhivih epp sj xliwi sph gmtlivw ew sfwspixi. ai'pp lei xs vieppc wxit yt syv keqi mj ai aerx xs oiit syv qiwwekiw weji.\n",
      "12\n",
      "htruyjwx mfaj wjsijwji fqq tk ymjxj tqi hnumjwx fx tgxtqjyj. bj'qq mfaj yt wjfqqd xyju u tw lfrj nk bj bfsy yt pjju tw rjxxfljx xfkj.\n",
      "13\n",
      "iusvakxy ngbk xktjkxkj grr ul nkyk urj iovnkxy gy uhyurkk. ck'rr ngbk u xkgrre ykv av uax mgsk ol ck cgt u qkkv uax skyygmky yglk.\n",
      "14\n",
      "jvtwbaly ohcl yluklylk hss vm aoll vsk jpwoly h vivslal. dl'ss ohcl av ylhssf alw bw vby nhtl pm dl dhua av rllw vby tlhnl hml.\n"
     ]
    }
   ],
   "source": [
    "message_3 = \"vhfinmxkl atox kxgwxkxw tee hy maxlx hew vbiaxkl tl hulhexmx. px'ee atox mh kxteer lmxi ni hnk ztfx by px ptgm mh dxxi hnk fxlltzxl ltyx.\"\n",
    "\n",
    "for i in range(1,15):\n",
    "    print(i)\n",
    "    decoded_message_3 = decoder(message_3,i)\n",
    "    print(decoded_message_3)\n",
    "    "
   ]
  },
  {
   "cell_type": "code",
   "execution_count": null,
   "metadata": {},
   "outputs": [],
   "source": [
    "#### Step 5: The Vigenère Cipher\n",
    "\n",
    "Great work! While you were working on the brute force cracking of the cipher, Vishal sent over another letter. That guy is a letter machine!\n",
    "\n",
    "            Salutations! As you can see, technology has made brute forcing simple ciphers like the Caesar Cipher extremely easy, and us crypto-enthusiasts have had to get more creative and use more complicated ciphers. This next cipher I'm going to teach you is the Vigenère Cipher, invented by an Italian cryptologist named Giovan Battista Bellaso (cool name eh?) in the 16th century, but named after another cryptologist from the 16th century, Blaise de Vigenère.\n",
    "            \n",
    "           The Vigenère Cipher is a polyalphabetic substitution cipher, as opposed to the Caesar Cipher which was a monoalphabetic substitution cipher. What this means is that opposed to having a single shift that is applied to every letter, the Vigenère Cipher has a different shift for each individual letter. The value of the shift for each letter is determined by a given keyword.\n",
    "           \n",
    "           Consider the message\n",
    "           \n",
    "               barry is the spy\n",
    "\n",
    "           If we want to code this message, first we choose a keyword. For this example, we'll use the keyword\n",
    "           \n",
    "               dog\n",
    "               \n",
    "           Now we use the repeat the keyword over and over to generate a _keyword phrase_ that is the same length as the message we want to code. So if we want to code the message \"barry is the spy\" our _keyword phrase_ is \"dogdo gd ogd ogd\". Now we are ready to start coding our message. We shift the each letter of our message by the place value of the corresponding letter in the keyword phrase, assuming that \"a\" has a place value of 0, \"b\" has a place value of 1, and so forth. Remember, we zero-index because this is Python we're talking about!\n",
    "\n",
    "                        message:       b  a  r  r  y    i  s   t  h  e   s  p  y\n",
    "                \n",
    "                 keyword phrase:       d  o  g  d  o    g  d   o  g  d   o  g  d\n",
    "                 \n",
    "          resulting place value:       4  14 15 12 16   24 11  21 25 22  22 17 5\n",
    "      \n",
    "            So we shift \"b\", which has an index of 1, by the index of \"d\", which is 3. This gives us an place value of 4, which is \"e\". Then continue the trend: we shift \"a\" by the place value of \"o\", 14, and get \"o\" again, we shift \"r\" by the place value of \"g\", 15, and get \"x\", shift the next \"r\" by 12 places and \"u\", and so forth. Once we complete all the shifts we end up with our coded message:\n",
    "            \n",
    "                eoxum ov hnh gvb\n",
    "                \n",
    "            As you can imagine, this is a lot harder to crack without knowing the keyword! So now comes the hard part. I'll give you a message and the keyword, and you'll see if you can figure out how to crack it! Ready? Okay here's my message:\n",
    "            \n",
    "                dfc aruw fsti gr vjtwhr wznj? vmph otis! cbx swv jipreneo uhllj kpi rahjib eg fjdkwkedhmp!\n",
    "                \n",
    "            and the keyword to decode my message is \n",
    "            \n",
    "                friends\n",
    "                \n",
    "            Because that's what we are! Good luck friend!\n",
    "           \n",
    "And there it is. Vishal has given you quite the assignment this time! Try to decode his message. It may be helpful to create a function that takes two parameters, the coded message and the keyword and then work towards a solution from there.\n",
    "\n",
    "**NOTE:** Watch out for spaces and punctuation! When there's a space or punctuation mark in the original message, there should be a space/punctuation mark in the corresponding repeated-keyword string as well! "
   ]
  },
  {
   "cell_type": "code",
   "execution_count": 10,
   "metadata": {},
   "outputs": [
    {
     "name": "stdout",
     "output_type": "stream",
     "text": [
      "Select a keyword: friends\n",
      "fri ends frie nd sfrien dsfr? iend sfri! end sfr iendsfri endsf rie ndsfri en dsfriendsfr!\n",
      "you were able to decode this? nice work! you are becoming quite the expert at crytography!\n"
     ]
    },
    {
     "data": {
      "text/plain": [
       "'you were able to decode this? nice work! you are becoming quite the expert at crytography!'"
      ]
     },
     "execution_count": 10,
     "metadata": {},
     "output_type": "execute_result"
    }
   ],
   "source": [
    "def vigenere_coded(message):\n",
    "    keyword = input(\"Select a keyword: \")\n",
    "    replace = 0\n",
    "    keycoded_message = \"\"\n",
    "    for character in message:\n",
    "        if character in alphabet:\n",
    "            if replace <= len(keyword)-1:\n",
    "                keycoded_message += keyword[replace]\n",
    "                replace += 1\n",
    "            else:\n",
    "                replace = 0\n",
    "                keycoded_message += keyword[replace]\n",
    "                replace += 1\n",
    "        else:\n",
    "            keycoded_message += character\n",
    "    print(keycoded_message)\n",
    "\n",
    "    keyword_index = []\n",
    "    i = 0\n",
    "    shifted_message = \"\"\n",
    "    for i in range(0,len(message)):\n",
    "        character = message[i]\n",
    "        if character in alphabet:\n",
    "            message_index = alphabet.index(character)\n",
    "            keycoded_message_index = alphabet.index(keycoded_message[i])\n",
    "            i += 1\n",
    "            shifted_index = message_index + keycoded_message_index\n",
    "            if shifted_index < 25:\n",
    "                shifted_message += alphabet[shifted_index]\n",
    "            elif shifted_index > 25:\n",
    "                shift_index = (shifted_index%25) - 1\n",
    "                shifted_message += alphabet[shift_index]\n",
    "        else:\n",
    "            shifted_message += character\n",
    "    print(shifted_message)\n",
    "    return shifted_message\n",
    "\n",
    "\n",
    "def vigenere_decoded(coded_message):\n",
    "    keyword = input(\"Select a keyword: \")\n",
    "    replace = 0\n",
    "    keycoded_message = \"\"\n",
    "    for character in coded_message:\n",
    "        if character in alphabet:\n",
    "            if replace <= len(keyword)-1:\n",
    "                keycoded_message += keyword[replace]\n",
    "                replace += 1\n",
    "            else:\n",
    "                replace = 0\n",
    "                keycoded_message += keyword[replace]\n",
    "                replace += 1\n",
    "        else:\n",
    "            keycoded_message += character\n",
    "    print(keycoded_message)\n",
    "    \n",
    "    keyword_index = []\n",
    "    i = 0\n",
    "    decoded_message = \"\"\n",
    "    for i in range(0,len(coded_message)):\n",
    "        character = coded_message[i]\n",
    "        if character in alphabet:\n",
    "            message_index = alphabet.index(character)\n",
    "            keycoded_message_index = alphabet.index(keycoded_message[i])\n",
    "            i += 1\n",
    "            shifted_index = message_index - keycoded_message_index\n",
    "            if shifted_index < 25:\n",
    "                decoded_message += alphabet[shifted_index]\n",
    "            elif shifted_index > 25:\n",
    "                shift_index = (shifted_index%25) - 1\n",
    "                decoded_message += alphabet[shift_index]\n",
    "        else:\n",
    "            decoded_message += character\n",
    "    print(decoded_message)\n",
    "    return decoded_message\n",
    "\n",
    "vishal_message = \"dfc aruw fsti gr vjtwhr wznj? vmph otis! cbx swv jipreneo uhllj kpi rahjib eg fjdkwkedhmp!\"\n",
    "vigenere_decoded(vishal_message)\n"
   ]
  },
  {
   "cell_type": "code",
   "execution_count": null,
   "metadata": {},
   "outputs": [],
   "source": [
    "#### Step 6: Send a message with the  Vigenère Cipher\n",
    "Great work decoding the message. For your final task, write a function that can encode a message using a given keyword and write out a message to send to Vishal!\n",
    "\n",
    "*As a bonus, try calling your decoder function on the result of your encryption function. You should get the original message back!*"
   ]
  },
  {
   "cell_type": "code",
   "execution_count": null,
   "metadata": {},
   "outputs": [],
   "source": []
  },
  {
   "cell_type": "code",
   "execution_count": null,
   "metadata": {},
   "outputs": [],
   "source": [
    "#### Conclusion\n",
    "Over the course of this project you've learned about two different cipher methods and have used your Python skills to code and decode messages. There are all types of other facinating ciphers out there to explore, and Python is the perfect language to implement them with, so go exploring! "
   ]
  }
 ],
 "metadata": {
  "kernelspec": {
   "display_name": "Python 3 (ipykernel)",
   "language": "python",
   "name": "python3"
  },
  "language_info": {
   "codemirror_mode": {
    "name": "ipython",
    "version": 3
   },
   "file_extension": ".py",
   "mimetype": "text/x-python",
   "name": "python",
   "nbconvert_exporter": "python",
   "pygments_lexer": "ipython3",
   "version": "3.9.12"
  }
 },
 "nbformat": 4,
 "nbformat_minor": 2
}
